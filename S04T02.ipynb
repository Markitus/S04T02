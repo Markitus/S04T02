{
 "cells": [
  {
   "cell_type": "markdown",
   "id": "79710945",
   "metadata": {},
   "source": [
    "# Exercici 1"
   ]
  },
  {
   "cell_type": "code",
   "execution_count": 42,
   "id": "1e024f94",
   "metadata": {},
   "outputs": [
    {
     "data": {
      "text/html": [
       "<div>\n",
       "<style scoped>\n",
       "    .dataframe tbody tr th:only-of-type {\n",
       "        vertical-align: middle;\n",
       "    }\n",
       "\n",
       "    .dataframe tbody tr th {\n",
       "        vertical-align: top;\n",
       "    }\n",
       "\n",
       "    .dataframe thead th {\n",
       "        text-align: right;\n",
       "    }\n",
       "</style>\n",
       "<table border=\"1\" class=\"dataframe\">\n",
       "  <thead>\n",
       "    <tr style=\"text-align: right;\">\n",
       "      <th></th>\n",
       "      <th>total_bill,\"tip\",\"sex\",\"smoker\",\"day\",\"time\",\"size\"</th>\n",
       "    </tr>\n",
       "  </thead>\n",
       "  <tbody>\n",
       "    <tr>\n",
       "      <th>0</th>\n",
       "      <td>16.99,1.01,\"Female\",\"No\",\"Sun\",\"Dinner\",2</td>\n",
       "    </tr>\n",
       "    <tr>\n",
       "      <th>1</th>\n",
       "      <td>10.34,1.66,\"Male\",\"No\",\"Sun\",\"Dinner\",3</td>\n",
       "    </tr>\n",
       "    <tr>\n",
       "      <th>2</th>\n",
       "      <td>21.01,3.5,\"Male\",\"No\",\"Sun\",\"Dinner\",3</td>\n",
       "    </tr>\n",
       "    <tr>\n",
       "      <th>3</th>\n",
       "      <td>23.68,3.31,\"Male\",\"No\",\"Sun\",\"Dinner\",2</td>\n",
       "    </tr>\n",
       "    <tr>\n",
       "      <th>4</th>\n",
       "      <td>24.59,3.61,\"Female\",\"No\",\"Sun\",\"Dinner\",4</td>\n",
       "    </tr>\n",
       "  </tbody>\n",
       "</table>\n",
       "</div>"
      ],
      "text/plain": [
       "  total_bill,\"tip\",\"sex\",\"smoker\",\"day\",\"time\",\"size\"\n",
       "0          16.99,1.01,\"Female\",\"No\",\"Sun\",\"Dinner\",2 \n",
       "1            10.34,1.66,\"Male\",\"No\",\"Sun\",\"Dinner\",3 \n",
       "2             21.01,3.5,\"Male\",\"No\",\"Sun\",\"Dinner\",3 \n",
       "3            23.68,3.31,\"Male\",\"No\",\"Sun\",\"Dinner\",2 \n",
       "4          24.59,3.61,\"Female\",\"No\",\"Sun\",\"Dinner\",4 "
      ]
     },
     "execution_count": 42,
     "metadata": {},
     "output_type": "execute_result"
    }
   ],
   "source": [
    "import numpy as np\n",
    "import pandas as pd\n",
    "import matplotlib.pyplot as plt\n",
    "import seaborn as sns\n",
    "\n",
    "tips = pd.read_csv('C:\\\\Users\\\\Marc\\\\anaconda3\\\\Data-Science-main\\\\Data-sources\\\\tips.csv', sep='\\t', encoding='utf-8')\n",
    "\n",
    "tips = tips.replace([np.inf, -np.inf], np.nan)\n",
    "tips.dropna(inplace=True)\n",
    "\n",
    "tips[:5]\n"
   ]
  },
  {
   "cell_type": "code",
   "execution_count": 45,
   "id": "ab0a10eb",
   "metadata": {},
   "outputs": [
    {
     "data": {
      "text/html": [
       "<div>\n",
       "<style scoped>\n",
       "    .dataframe tbody tr th:only-of-type {\n",
       "        vertical-align: middle;\n",
       "    }\n",
       "\n",
       "    .dataframe tbody tr th {\n",
       "        vertical-align: top;\n",
       "    }\n",
       "\n",
       "    .dataframe thead th {\n",
       "        text-align: right;\n",
       "    }\n",
       "</style>\n",
       "<table border=\"1\" class=\"dataframe\">\n",
       "  <thead>\n",
       "    <tr style=\"text-align: right;\">\n",
       "      <th></th>\n",
       "      <th>total_bill</th>\n",
       "      <th>tip</th>\n",
       "      <th>sex</th>\n",
       "      <th>smoker</th>\n",
       "      <th>day</th>\n",
       "      <th>time</th>\n",
       "      <th>size</th>\n",
       "    </tr>\n",
       "  </thead>\n",
       "  <tbody>\n",
       "    <tr>\n",
       "      <th>0</th>\n",
       "      <td>16.99</td>\n",
       "      <td>1.01</td>\n",
       "      <td>Female</td>\n",
       "      <td>No</td>\n",
       "      <td>Sun</td>\n",
       "      <td>Dinner</td>\n",
       "      <td>2</td>\n",
       "    </tr>\n",
       "    <tr>\n",
       "      <th>1</th>\n",
       "      <td>10.34</td>\n",
       "      <td>1.66</td>\n",
       "      <td>Male</td>\n",
       "      <td>No</td>\n",
       "      <td>Sun</td>\n",
       "      <td>Dinner</td>\n",
       "      <td>3</td>\n",
       "    </tr>\n",
       "    <tr>\n",
       "      <th>2</th>\n",
       "      <td>21.01</td>\n",
       "      <td>3.50</td>\n",
       "      <td>Male</td>\n",
       "      <td>No</td>\n",
       "      <td>Sun</td>\n",
       "      <td>Dinner</td>\n",
       "      <td>3</td>\n",
       "    </tr>\n",
       "    <tr>\n",
       "      <th>3</th>\n",
       "      <td>23.68</td>\n",
       "      <td>3.31</td>\n",
       "      <td>Male</td>\n",
       "      <td>No</td>\n",
       "      <td>Sun</td>\n",
       "      <td>Dinner</td>\n",
       "      <td>2</td>\n",
       "    </tr>\n",
       "    <tr>\n",
       "      <th>4</th>\n",
       "      <td>24.59</td>\n",
       "      <td>3.61</td>\n",
       "      <td>Female</td>\n",
       "      <td>No</td>\n",
       "      <td>Sun</td>\n",
       "      <td>Dinner</td>\n",
       "      <td>4</td>\n",
       "    </tr>\n",
       "  </tbody>\n",
       "</table>\n",
       "</div>"
      ],
      "text/plain": [
       "   total_bill   tip     sex smoker  day    time  size\n",
       "0       16.99  1.01  Female     No  Sun  Dinner     2\n",
       "1       10.34  1.66    Male     No  Sun  Dinner     3\n",
       "2       21.01  3.50    Male     No  Sun  Dinner     3\n",
       "3       23.68  3.31    Male     No  Sun  Dinner     2\n",
       "4       24.59  3.61  Female     No  Sun  Dinner     4"
      ]
     },
     "execution_count": 45,
     "metadata": {},
     "output_type": "execute_result"
    },
    {
     "data": {
      "image/png": "[encoded data removed]",
      "text/plain": [
       "<Figure size 432x288 with 1 Axes>"
      ]
     },
     "metadata": {
      "needs_background": "light"
     },
     "output_type": "display_data"
    }
   ],
   "source": [
    "#sns.barplot(x='total_bill', y='day', data=tips, orient=\"h\")\n",
    "import seaborn as sns\n",
    "tips = sns.load_dataset('tips')\n",
    "fig1=tips['sex'].value_counts().plot(kind=\"bar\",title = 'sexisme garrepa')\n",
    "tips.head()"
   ]
  },
  {
   "cell_type": "code",
   "execution_count": 18,
   "id": "b2907148",
   "metadata": {},
   "outputs": [],
   "source": [
    "fig1.get_figure().savefig('fig1_2.png')"
   ]
  },
  {
   "cell_type": "code",
   "execution_count": 20,
   "id": "81193a81",
   "metadata": {},
   "outputs": [
    {
     "data": {
      "image/png": "[encoded data removed]",
      "text/plain": [
       "<Figure size 432x288 with 1 Axes>"
      ]
     },
     "metadata": {
      "needs_background": "light"
     },
     "output_type": "display_data"
    }
   ],
   "source": [
    "fig2=tips['day'].value_counts().plot(kind=\"bar\",title = 'blac fraidai ')"
   ]
  },
  {
   "cell_type": "code",
   "execution_count": 21,
   "id": "26a7386a",
   "metadata": {},
   "outputs": [],
   "source": [
    "fig2.get_figure().savefig('fig2_2.png')"
   ]
  },
  {
   "cell_type": "code",
   "execution_count": 24,
   "id": "25340799",
   "metadata": {},
   "outputs": [
    {
     "data": {
      "image/png": "[encoded data removed]",
      "text/plain": [
       "<Figure size 432x288 with 1 Axes>"
      ]
     },
     "metadata": {
      "needs_background": "light"
     },
     "output_type": "display_data"
    }
   ],
   "source": [
    "fig3=sns.barplot(y=\"total_bill\", x=\"day\", data=tips)"
   ]
  },
  {
   "cell_type": "code",
   "execution_count": 25,
   "id": "f03a68b0",
   "metadata": {},
   "outputs": [],
   "source": [
    "fig3.get_figure().savefig('fig3_2.png')"
   ]
  },
  {
   "cell_type": "code",
   "execution_count": 26,
   "id": "4dd02b06",
   "metadata": {},
   "outputs": [
    {
     "data": {
      "image/png": "[encoded data removed]",
      "text/plain": [
       "<Figure size 360x360 with 1 Axes>"
      ]
     },
     "metadata": {
      "needs_background": "light"
     },
     "output_type": "display_data"
    }
   ],
   "source": [
    "fig4=sns.relplot(y=\"total_bill\", x=\"tip\", data=tips)"
   ]
  },
  {
   "cell_type": "code",
   "execution_count": 28,
   "id": "1608452d",
   "metadata": {},
   "outputs": [],
   "source": [
    "fig4.savefig('fig4_2.png')"
   ]
  },
  {
   "cell_type": "code",
   "execution_count": 30,
   "id": "27fb6e45",
   "metadata": {},
   "outputs": [
    {
     "data": {
      "text/plain": [
       "Text(0.5, 1.0, 'generositat diaria')"
      ]
     },
     "execution_count": 30,
     "metadata": {},
     "output_type": "execute_result"
    },
    {
     "data": {
      "image/png": "[encoded data removed]",
      "text/plain": [
       "<Figure size 418.875x360 with 1 Axes>"
      ]
     },
     "metadata": {
      "needs_background": "light"
     },
     "output_type": "display_data"
    }
   ],
   "source": [
    "fig5=sns.relplot(x=\"total_bill\", y=\"tip\", hue=\"day\", data=tips)\n",
    "plt.title(\"generositat diaria\")"
   ]
  },
  {
   "cell_type": "code",
   "execution_count": 31,
   "id": "3362b0de",
   "metadata": {},
   "outputs": [],
   "source": [
    "fig5.savefig('fig5_2.png')"
   ]
  },
  {
   "cell_type": "code",
   "execution_count": 47,
   "id": "cf03f81c",
   "metadata": {},
   "outputs": [
    {
     "data": {
      "image/png": "[encoded data removed]",
      "text/plain": [
       "<Figure size 576x288 with 1 Axes>"
      ]
     },
     "metadata": {
      "needs_background": "light"
     },
     "output_type": "display_data"
    }
   ],
   "source": [
    "tips['tip_percent'] = round((tips['tip'] / (tips['total_bill'] - tips['tip']))*100, 2)\n",
    "tips.head()\n",
    "\n",
    "from mpl_toolkits.mplot3d.axes3d import get_test_data\n",
    "\n",
    "fig = plt.figure(figsize=plt.figaspect(0.5))\n",
    "ax = fig.add_subplot(1, 2, 1, projection='3d')\n",
    "for x in tips.day.unique():\n",
    "    fig6=ax.scatter(tips.total_bill[tips.day==x],tips.tip[tips.day==x],tips.tip_percent[tips.day==x],label=x)\n"
   ]
  },
  {
   "cell_type": "code",
   "execution_count": 48,
   "id": "f8be2de1",
   "metadata": {},
   "outputs": [
    {
     "name": "stdout",
     "output_type": "stream",
     "text": [
      "<class 'pandas.core.frame.DataFrame'>\n",
      "RangeIndex: 244 entries, 0 to 243\n",
      "Data columns (total 8 columns):\n",
      " #   Column       Non-Null Count  Dtype   \n",
      "---  ------       --------------  -----   \n",
      " 0   total_bill   244 non-null    float64 \n",
      " 1   tip          244 non-null    float64 \n",
      " 2   sex          244 non-null    category\n",
      " 3   smoker       244 non-null    category\n",
      " 4   day          244 non-null    category\n",
      " 5   time         244 non-null    category\n",
      " 6   size         244 non-null    int64   \n",
      " 7   tip_percent  244 non-null    float64 \n",
      "dtypes: category(4), float64(3), int64(1)\n",
      "memory usage: 9.3 KB\n"
     ]
    }
   ],
   "source": [
    "tips.info()"
   ]
  },
  {
   "cell_type": "markdown",
   "id": "5254fee8",
   "metadata": {},
   "source": [
    "# Exercici 2"
   ]
  },
  {
   "cell_type": "code",
   "execution_count": 32,
   "id": "993dcd8e",
   "metadata": {
    "scrolled": false
   },
   "outputs": [
    {
     "name": "stderr",
     "output_type": "stream",
     "text": [
      "<ipython-input-32-41cabf783cba>:6: ParserWarning: Falling back to the 'python' engine because the 'c' engine does not support regex separators (separators > 1 char and different from '\\s+' are interpreted as regex); you can avoid this warning by specifying engine='python'.\n",
      "  pelis = pd.read_csv('C:\\\\Users\\\\Marc\\\\anaconda3\\\\Data-Science-main\\\\Pre-processing-data\\\\movies.dat', sep='::',names = ['titol', 'genere'])\n"
     ]
    },
    {
     "data": {
      "text/html": [
       "<div>\n",
       "<style scoped>\n",
       "    .dataframe tbody tr th:only-of-type {\n",
       "        vertical-align: middle;\n",
       "    }\n",
       "\n",
       "    .dataframe tbody tr th {\n",
       "        vertical-align: top;\n",
       "    }\n",
       "\n",
       "    .dataframe thead th {\n",
       "        text-align: right;\n",
       "    }\n",
       "</style>\n",
       "<table border=\"1\" class=\"dataframe\">\n",
       "  <thead>\n",
       "    <tr style=\"text-align: right;\">\n",
       "      <th></th>\n",
       "      <th>Action</th>\n",
       "      <th>Adventure</th>\n",
       "      <th>Animation</th>\n",
       "      <th>Children's</th>\n",
       "      <th>Comedy</th>\n",
       "      <th>Crime</th>\n",
       "      <th>Documentary</th>\n",
       "      <th>Drama</th>\n",
       "      <th>Fantasy</th>\n",
       "      <th>Film-Noir</th>\n",
       "      <th>Horror</th>\n",
       "      <th>Musical</th>\n",
       "      <th>Mystery</th>\n",
       "      <th>Romance</th>\n",
       "      <th>Sci-Fi</th>\n",
       "      <th>Thriller</th>\n",
       "      <th>War</th>\n",
       "      <th>Western</th>\n",
       "    </tr>\n",
       "  </thead>\n",
       "  <tbody>\n",
       "    <tr>\n",
       "      <th>1</th>\n",
       "      <td>0</td>\n",
       "      <td>0</td>\n",
       "      <td>1</td>\n",
       "      <td>1</td>\n",
       "      <td>1</td>\n",
       "      <td>0</td>\n",
       "      <td>0</td>\n",
       "      <td>0</td>\n",
       "      <td>0</td>\n",
       "      <td>0</td>\n",
       "      <td>0</td>\n",
       "      <td>0</td>\n",
       "      <td>0</td>\n",
       "      <td>0</td>\n",
       "      <td>0</td>\n",
       "      <td>0</td>\n",
       "      <td>0</td>\n",
       "      <td>0</td>\n",
       "    </tr>\n",
       "    <tr>\n",
       "      <th>2</th>\n",
       "      <td>0</td>\n",
       "      <td>1</td>\n",
       "      <td>0</td>\n",
       "      <td>1</td>\n",
       "      <td>0</td>\n",
       "      <td>0</td>\n",
       "      <td>0</td>\n",
       "      <td>0</td>\n",
       "      <td>1</td>\n",
       "      <td>0</td>\n",
       "      <td>0</td>\n",
       "      <td>0</td>\n",
       "      <td>0</td>\n",
       "      <td>0</td>\n",
       "      <td>0</td>\n",
       "      <td>0</td>\n",
       "      <td>0</td>\n",
       "      <td>0</td>\n",
       "    </tr>\n",
       "    <tr>\n",
       "      <th>3</th>\n",
       "      <td>0</td>\n",
       "      <td>0</td>\n",
       "      <td>0</td>\n",
       "      <td>0</td>\n",
       "      <td>1</td>\n",
       "      <td>0</td>\n",
       "      <td>0</td>\n",
       "      <td>0</td>\n",
       "      <td>0</td>\n",
       "      <td>0</td>\n",
       "      <td>0</td>\n",
       "      <td>0</td>\n",
       "      <td>0</td>\n",
       "      <td>1</td>\n",
       "      <td>0</td>\n",
       "      <td>0</td>\n",
       "      <td>0</td>\n",
       "      <td>0</td>\n",
       "    </tr>\n",
       "    <tr>\n",
       "      <th>4</th>\n",
       "      <td>0</td>\n",
       "      <td>0</td>\n",
       "      <td>0</td>\n",
       "      <td>0</td>\n",
       "      <td>1</td>\n",
       "      <td>0</td>\n",
       "      <td>0</td>\n",
       "      <td>1</td>\n",
       "      <td>0</td>\n",
       "      <td>0</td>\n",
       "      <td>0</td>\n",
       "      <td>0</td>\n",
       "      <td>0</td>\n",
       "      <td>0</td>\n",
       "      <td>0</td>\n",
       "      <td>0</td>\n",
       "      <td>0</td>\n",
       "      <td>0</td>\n",
       "    </tr>\n",
       "    <tr>\n",
       "      <th>5</th>\n",
       "      <td>0</td>\n",
       "      <td>0</td>\n",
       "      <td>0</td>\n",
       "      <td>0</td>\n",
       "      <td>1</td>\n",
       "      <td>0</td>\n",
       "      <td>0</td>\n",
       "      <td>0</td>\n",
       "      <td>0</td>\n",
       "      <td>0</td>\n",
       "      <td>0</td>\n",
       "      <td>0</td>\n",
       "      <td>0</td>\n",
       "      <td>0</td>\n",
       "      <td>0</td>\n",
       "      <td>0</td>\n",
       "      <td>0</td>\n",
       "      <td>0</td>\n",
       "    </tr>\n",
       "  </tbody>\n",
       "</table>\n",
       "</div>"
      ],
      "text/plain": [
       "   Action  Adventure  Animation  Children's  Comedy  Crime  Documentary  \\\n",
       "1       0          0          1           1       1      0            0   \n",
       "2       0          1          0           1       0      0            0   \n",
       "3       0          0          0           0       1      0            0   \n",
       "4       0          0          0           0       1      0            0   \n",
       "5       0          0          0           0       1      0            0   \n",
       "\n",
       "   Drama  Fantasy  Film-Noir  Horror  Musical  Mystery  Romance  Sci-Fi  \\\n",
       "1      0        0          0       0        0        0        0       0   \n",
       "2      0        1          0       0        0        0        0       0   \n",
       "3      0        0          0       0        0        0        1       0   \n",
       "4      1        0          0       0        0        0        0       0   \n",
       "5      0        0          0       0        0        0        0       0   \n",
       "\n",
       "   Thriller  War  Western  \n",
       "1         0    0        0  \n",
       "2         0    0        0  \n",
       "3         0    0        0  \n",
       "4         0    0        0  \n",
       "5         0    0        0  "
      ]
     },
     "execution_count": 32,
     "metadata": {},
     "output_type": "execute_result"
    }
   ],
   "source": [
    "import numpy as np\n",
    "import pandas as pd\n",
    "import matplotlib.pyplot as plt\n",
    "import seaborn as sns\n",
    "\n",
    "pelis = pd.read_csv('C:\\\\Users\\\\Marc\\\\anaconda3\\\\Data-Science-main\\\\Pre-processing-data\\\\movies.dat', sep='::',names = ['titol', 'genere'])\n",
    "#pelis.get_dummies(data, prefix=None, prefix_sep='_', dummy_na=False, columns=None, sparse=False, drop_first=False, dtype=None)\n",
    "#pelis.head()\n",
    "#pd.get_dummies(pelis[\"genere\"].str.get_dummies(sep='|'))\n",
    "genere = pelis[\"genere\"].str.get_dummies(sep='|')\n",
    "genere.head()"
   ]
  },
  {
   "cell_type": "code",
   "execution_count": 35,
   "id": "c646f500",
   "metadata": {},
   "outputs": [
    {
     "data": {
      "text/plain": [
       "Index(['Action', 'Adventure', 'Animation', 'Children's', 'Comedy', 'Crime',\n",
       "       'Documentary', 'Drama', 'Fantasy', 'Film-Noir', 'Horror', 'Musical',\n",
       "       'Mystery', 'Romance', 'Sci-Fi', 'Thriller', 'War', 'Western'],\n",
       "      dtype='object')"
      ]
     },
     "execution_count": 35,
     "metadata": {},
     "output_type": "execute_result"
    }
   ],
   "source": [
    "genere.columns"
   ]
  },
  {
   "cell_type": "code",
   "execution_count": 50,
   "id": "70f2083c",
   "metadata": {},
   "outputs": [
    {
     "data": {
      "text/plain": [
       "Action  Adventure  Animation  Children's  Comedy  Crime  Documentary  Drama  Fantasy  Film-Noir  Horror  Musical  Mystery  Romance  Sci-Fi  Thriller  War  Western\n",
       "0       0          0          0           0       0      0            1      0        0          0       0        0        0        0       0         0    0          843\n",
       "                                          1       0      0            0      0        0          0       0        0        0        0       0         0    0          521\n",
       "                                          0       0      0            0      0        0          1       0        0        0        0       0         0    0          178\n",
       "                                          1       0      0            1      0        0          0       0        0        0        0       0         0    0          162\n",
       "                                                                      0      0        0          0       0        0        1        0       0         0    0          142\n",
       "                                                                                                                                                                     ... \n",
       "        1          0          0           0       0      0            0      0        0          0       0        0        1        1       0         0    0            1\n",
       "                                                                                                         1        0        0        0       0         0    0            1\n",
       "                                                                                                                           1        0       0         0    0            1\n",
       "                                                                             1        0          0       0        0        0        0       0         0    0            1\n",
       "1       1          1          1           0       0      0            0      1        0          0       0        0        0        0       0         0    0            1\n",
       "Length: 301, dtype: int64"
      ]
     },
     "execution_count": 50,
     "metadata": {},
     "output_type": "execute_result"
    }
   ],
   "source": [
    "genere.value_counts()"
   ]
  },
  {
   "cell_type": "code",
   "execution_count": 58,
   "id": "d6593994",
   "metadata": {},
   "outputs": [
    {
     "data": {
      "text/plain": [
       "(array([8., 5., 3., 0., 0., 0., 0., 1., 0., 1.]),\n",
       " array([  44. ,  199.9,  355.8,  511.7,  667.6,  823.5,  979.4, 1135.3,\n",
       "        1291.2, 1447.1, 1603. ]),\n",
       " <BarContainer object of 10 artists>)"
      ]
     },
     "execution_count": 58,
     "metadata": {},
     "output_type": "execute_result"
    },
    {
     "data": {
      "image/png": "[encoded data removed]",
      "text/plain": [
       "<Figure size 432x288 with 1 Axes>"
      ]
     },
     "metadata": {
      "needs_background": "light"
     },
     "output_type": "display_data"
    }
   ],
   "source": [
    "eee=genere.sum()\n",
    "#fig1=eee.value_counts().plot(x=genere.sum(),kind=\"hist\",title = 'ospa!')\n",
    "\n",
    "plt.hist(eee)"
   ]
  },
  {
   "cell_type": "code",
   "execution_count": 52,
   "id": "7ab8aa19",
   "metadata": {},
   "outputs": [
    {
     "data": {
      "text/plain": [
       "68      2\n",
       "1603    1\n",
       "211     1\n",
       "471     1\n",
       "114     1\n",
       "283     1\n",
       "343     1\n",
       "503     1\n",
       "276     1\n",
       "251     1\n",
       "1200    1\n",
       "143     1\n",
       "492     1\n",
       "44      1\n",
       "106     1\n",
       "105     1\n",
       "127     1\n",
       "dtype: int64"
      ]
     },
     "execution_count": 52,
     "metadata": {},
     "output_type": "execute_result"
    }
   ],
   "source": [
    "eee.value_counts()"
   ]
  },
  {
   "cell_type": "code",
   "execution_count": 53,
   "id": "d630dad4",
   "metadata": {},
   "outputs": [
    {
     "data": {
      "text/plain": [
       "Action          503\n",
       "Adventure       283\n",
       "Animation       105\n",
       "Children's      251\n",
       "Comedy         1200\n",
       "Crime           211\n",
       "Documentary     127\n",
       "Drama          1603\n",
       "Fantasy          68\n",
       "Film-Noir        44\n",
       "Horror          343\n",
       "Musical         114\n",
       "Mystery         106\n",
       "Romance         471\n",
       "Sci-Fi          276\n",
       "Thriller        492\n",
       "War             143\n",
       "Western          68\n",
       "dtype: int64"
      ]
     },
     "execution_count": 53,
     "metadata": {},
     "output_type": "execute_result"
    }
   ],
   "source": [
    "genere.sum()"
   ]
  },
  {
   "cell_type": "code",
   "execution_count": null,
   "id": "80b4bcf9",
   "metadata": {},
   "outputs": [],
   "source": []
  }
 ],
 "metadata": {
  "kernelspec": {
   "display_name": "Python 3",
   "language": "python",
   "name": "python3"
  },
  "language_info": {
   "codemirror_mode": {
    "name": "ipython",
    "version": 3
   },
   "file_extension": ".py",
   "mimetype": "text/x-python",
   "name": "python",
   "nbconvert_exporter": "python",
   "pygments_lexer": "ipython3",
   "version": "3.8.8"
  }
 },
 "nbformat": 4,
 "nbformat_minor": 5
}
